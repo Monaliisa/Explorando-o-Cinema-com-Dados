{
  "nbformat": 4,
  "nbformat_minor": 0,
  "metadata": {
    "colab": {
      "provenance": [],
      "authorship_tag": "ABX9TyPDEknJbRnvqedcMo/Acq4p",
      "include_colab_link": true
    },
    "kernelspec": {
      "name": "python3",
      "display_name": "Python 3"
    },
    "language_info": {
      "name": "python"
    }
  },
  "cells": [
    {
      "cell_type": "markdown",
      "metadata": {
        "id": "view-in-github",
        "colab_type": "text"
      },
      "source": [
        "<a href=\"https://colab.research.google.com/github/Monaliisa/Explorando-o-Cinema-com-Dados/blob/main/Template.ipynb\" target=\"_parent\"><img src=\"https://colab.research.google.com/assets/colab-badge.svg\" alt=\"Open In Colab\"/></a>"
      ]
    },
    {
      "cell_type": "markdown",
      "source": [
        "# Sobre o Projeto\n",
        "\n",
        "Este notebook refere-se ao workshop **Explorando o Cinema com Dados: Análise de Filmes e Tendências Python** do evento **Mulher Tech Sim Senhor**.\n",
        "\n",
        "Ele tem como objetivo explorar um conjunto de dados sobre filmes, utilizando a linguagem Python e bibliotecas populares como **[Pandas](https://pandas.pydata.org/)**, e **[Plotly](https://plotly.com/python/getting-started/)**.\n",
        "\n",
        "Ao longo deste estudo, responderemos perguntas como:\n",
        "\n",
        "- Quais são os gêneros mais comuns?\n",
        "\n",
        "- Como o orçamento e a receita dos filmes se relacionam?\n",
        "\n",
        "- Qual o número de filmes ao longo dos anos?\n",
        "\n"
      ],
      "metadata": {
        "id": "85e0tKe-tQN9"
      }
    },
    {
      "cell_type": "markdown",
      "source": [
        "# Importação das bibliotecas\n"
      ],
      "metadata": {
        "id": "g3Q3zQE3r_8T"
      }
    },
    {
      "cell_type": "markdown",
      "source": [
        "Antes de começarmos a análise, importamos as bibliotecas necessárias para manipulação e visualização dos dados."
      ],
      "metadata": {
        "id": "XBwDRX66urKu"
      }
    },
    {
      "cell_type": "code",
      "execution_count": null,
      "metadata": {
        "id": "I5ZZO61bSxeZ"
      },
      "outputs": [],
      "source": [
        "\n"
      ]
    },
    {
      "cell_type": "markdown",
      "source": [
        "Os apelidos usados (como `pd`, `px` e `plt`) são convenções amplamente adotadas na comunidade Python e ajudam a tornar o código mais legível."
      ],
      "metadata": {
        "id": "FGkGPw-Lusvb"
      }
    },
    {
      "cell_type": "markdown",
      "source": [
        "# Conhecendo os Dados"
      ],
      "metadata": {
        "id": "HfenLliEUsOl"
      }
    },
    {
      "cell_type": "markdown",
      "source": [
        "Utilizamos o comando `pd.read_csv()` para ler o arquivo CSV que contém as informações sobre os filmes. O argumento `encoding=\"ISO-8859-1\"` é usado para garantir a correta interpretação de caracteres especiais, e `delimiter=';'` especifica que os dados estão separados por ponto e vírgula."
      ],
      "metadata": {
        "id": "p56cdnCHwYKH"
      }
    },
    {
      "cell_type": "code",
      "source": [],
      "metadata": {
        "id": "fNZkGMw1S011"
      },
      "execution_count": null,
      "outputs": []
    },
    {
      "cell_type": "code",
      "source": [],
      "metadata": {
        "id": "qOODCHQaTn5Q"
      },
      "execution_count": null,
      "outputs": []
    },
    {
      "cell_type": "code",
      "source": [],
      "metadata": {
        "id": "rBSyd3-pUIud"
      },
      "execution_count": null,
      "outputs": []
    },
    {
      "cell_type": "markdown",
      "source": [
        "# Tratamento de Dados"
      ],
      "metadata": {
        "id": "xnr7d56fVIxK"
      }
    },
    {
      "cell_type": "markdown",
      "source": [
        "Antes da análise, é necessário lidar com valores ausentes e garantir que as colunas estejam no formato correto."
      ],
      "metadata": {
        "id": "KbwtgSxqwzs5"
      }
    },
    {
      "cell_type": "code",
      "source": [],
      "metadata": {
        "id": "gLX6QrKSUdUT"
      },
      "execution_count": null,
      "outputs": []
    },
    {
      "cell_type": "code",
      "source": [],
      "metadata": {
        "id": "UIbfHSwyVQmS"
      },
      "execution_count": null,
      "outputs": []
    },
    {
      "cell_type": "markdown",
      "source": [
        "# Gerando Dados"
      ],
      "metadata": {
        "id": "loY00pTUfRAo"
      }
    },
    {
      "cell_type": "markdown",
      "source": [
        "Uma métrica essencial na análise financeira de filmes é o lucro, que representa a diferença entre a receita e o orçamento. Aqui, subtraímos o valor investido na produção (Orçamento (USD)) da arrecadação total (Receita (USD)) para obter o lucro de cada filme."
      ],
      "metadata": {
        "id": "i5aV2dWrxwz0"
      }
    },
    {
      "cell_type": "code",
      "source": [],
      "metadata": {
        "id": "EzbMNWUafWSL"
      },
      "execution_count": null,
      "outputs": []
    },
    {
      "cell_type": "markdown",
      "source": [
        "Para visualizar melhor os resultados, podemos exibir apenas as colunas de título e lucro:"
      ],
      "metadata": {
        "id": "XzMuIFZhzQFT"
      }
    },
    {
      "cell_type": "code",
      "source": [],
      "metadata": {
        "id": "tw2-Ss9moiYw"
      },
      "execution_count": null,
      "outputs": []
    },
    {
      "cell_type": "markdown",
      "source": [
        "# Análise Exploratória"
      ],
      "metadata": {
        "id": "Cmz3-TsUaKk2"
      }
    },
    {
      "cell_type": "markdown",
      "source": [
        "## Distribuição de Gêneros"
      ],
      "metadata": {
        "id": "B31QWltGo_dA"
      }
    },
    {
      "cell_type": "code",
      "source": [],
      "metadata": {
        "id": "cOtIZP2_WSFb"
      },
      "execution_count": null,
      "outputs": []
    },
    {
      "cell_type": "markdown",
      "source": [
        "O código abaixo conta a quantidade de filmes por gênero e cria um gráfico de barras para visualizar essa distribuição"
      ],
      "metadata": {
        "id": "9ucME1y1ykme"
      }
    },
    {
      "cell_type": "code",
      "source": [
        "\n"
      ],
      "metadata": {
        "id": "jvHoLDBKqRAD"
      },
      "execution_count": null,
      "outputs": []
    },
    {
      "cell_type": "markdown",
      "source": [
        "Aqui, o `df[\"Gênero\"].value_counts()`, que conta o número de ocorrências de cada gênero no conjunto de dados. Em seguida, `reset_index()` transforma essa contagem em um **DataFrame adequado para manipulaçã**o. As colunas são renomeadas para \"Gênero\" e \"Quantidade\" para tornar a tabela mais legível. Por fim, `px.bar()` é usado para criar um gráfico de barras interativo que exibe a quantidade de filmes em cada gênero.\n",
        "\n"
      ],
      "metadata": {
        "id": "g9R_5w1HyuYG"
      }
    },
    {
      "cell_type": "markdown",
      "source": [
        "## Contagem de filmes lançados por ano"
      ],
      "metadata": {
        "id": "-uIe6hIUrXVE"
      }
    },
    {
      "cell_type": "markdown",
      "source": [
        "Contamos a quantidades de filmes com df[\"Ano de Lançamento\"]. O `reset_index()` transforma essa contagem em um DataFrame, com as colunas sendo renomeadas para \"Ano\" e \"Quantidade\". O `sort_values(\"Ano\")` organiza os anos em ordem **crescente**. O gráfico gerado com `px.line()` exibe a tendência do número de lançamentos ao longo do tempo."
      ],
      "metadata": {
        "id": "RHr4BAf5zbLS"
      }
    },
    {
      "cell_type": "code",
      "source": [],
      "metadata": {
        "id": "LaxMLB7WrJ0V"
      },
      "execution_count": null,
      "outputs": []
    },
    {
      "cell_type": "markdown",
      "source": [
        "## Orçamento x Receita"
      ],
      "metadata": {
        "id": "8WQ2yd5N0hto"
      }
    },
    {
      "cell_type": "markdown",
      "source": [
        "O código seleciona os **10 primeiros filmes** e exibe um **gráfico de barras agrupadas**, comparando orçamento e receita. O parâmetro `barmode=\"group\"` coloca as barras lado a lado para facilitar a visualização. O comando `fig.update_layout(xaxis_tickangle=-45)` ajusta os rótulos para evitar sobreposição."
      ],
      "metadata": {
        "id": "iNyPB1vt1ByR"
      }
    },
    {
      "cell_type": "markdown",
      "source": [],
      "metadata": {
        "id": "A57MXNm31DSi"
      }
    },
    {
      "cell_type": "code",
      "source": [],
      "metadata": {
        "id": "Vw8AcYAmqz5N"
      },
      "execution_count": null,
      "outputs": []
    }
  ]
}